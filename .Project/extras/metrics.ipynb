{
 "cells": [
  {
   "cell_type": "code",
   "execution_count": 1,
   "metadata": {},
   "outputs": [],
   "source": [
    "import numpy as np\n",
    "import librosa\n",
    "import librosa.display\n",
    "import matplotlib.pyplot as plt\n",
    "from pystoi import stoi\n",
    "from pesq import pesq\n",
    "from scipy.signal import stft\n",
    "from tabulate import tabulate\n"
   ]
  },
  {
   "cell_type": "code",
   "execution_count": 2,
   "metadata": {},
   "outputs": [],
   "source": [
    "def compute_metrics(clean, denoised, fs):\n",
    "    # Compute STOI directly\n",
    "    stoi_score = stoi(clean, denoised, fs, extended=False)\n",
    "\n",
    "    # Compute PESQ (requires resampling to 16 kHz)\n",
    "    pesq_sr = 16000\n",
    "    clean_resampled = librosa.resample(clean, orig_sr=fs, target_sr=pesq_sr)\n",
    "    denoised_resampled = librosa.resample(denoised, orig_sr=fs, target_sr=pesq_sr)\n",
    "    pesq_score = pesq(pesq_sr, clean_resampled, denoised_resampled, 'wb')  # 'wb' for wideband PESQ\n",
    "\n",
    "    # Compute LSD (Log Spectral Distance)\n",
    "    f, t, Zxx_clean = stft(clean, fs=fs)\n",
    "    _, _, Zxx_denoised = stft(denoised, fs=fs)\n",
    "    eps = 1e-10  # Avoid log(0)\n",
    "    lsd = np.mean(np.sqrt(np.mean((np.log(np.abs(Zxx_clean) + eps) - np.log(np.abs(Zxx_denoised) + eps))**2, axis=0)))\n",
    "\n",
    "    # Compute SNR (Signal-to-Noise Ratio)\n",
    "    noise = clean - denoised\n",
    "    snr = 10 * np.log10(np.sum(clean**2) / np.sum(noise**2))\n",
    "\n",
    "    # Compute MSE (Mean Squared Error)\n",
    "    mse = np.mean((clean - denoised)**2)\n",
    "\n",
    "    return stoi_score, pesq_score, lsd, snr, mse\n",
    "\n",
    "def evaluate_denoising(clean_pth, noisy_pth, denoised_pths, sample_rate):\n",
    "    # Load clean and noisy speech\n",
    "    clean, _ = librosa.load(clean_pth, sr=sample_rate)\n",
    "    noisy, _ = librosa.load(noisy_pth, sr=sample_rate)\n",
    "\n",
    "    results = []\n",
    "\n",
    "    for denoised_pth in denoised_pths:\n",
    "        denoised, _ = librosa.load(denoised_pth, sr=sample_rate)\n",
    "\n",
    "        # Trim both signals to the shortest length\n",
    "        min_length = min(len(clean), len(denoised))\n",
    "        clean_trimmed = clean[:min_length]\n",
    "        denoised_trimmed = denoised[:min_length]\n",
    "\n",
    "        # Compute all metrics at once\n",
    "        stoi_score, pesq_score, lsd_score, snr_score, mse_score = compute_metrics(clean_trimmed, denoised_trimmed, sample_rate)\n",
    "\n",
    "        # Store results in a list\n",
    "        results.append([denoised_pth, f\"{stoi_score:.3f}\", f\"{pesq_score:.3f}\", f\"{lsd_score:.3f}\", \n",
    "                        f\"{snr_score:.3f}\", f\"{mse_score:.3f}\"])\n",
    "\n",
    "    # Define headers with the arrows near them\n",
    "    headers = [\"Denoised File\", \"STOI ↑\", \"PESQ ↑\", \"LSD ↓\", \"SNR (dB) ↑\", \"MSE ↓\"]\n",
    "\n",
    "    # Print results as a formatted table\n",
    "    print(tabulate(results, headers=headers, tablefmt=\"pretty\"))\n"
   ]
  },
  {
   "cell_type": "code",
   "execution_count": 3,
   "metadata": {},
   "outputs": [
    {
     "name": "stdout",
     "output_type": "stream",
     "text": [
      "+------------------------------------------------+--------+--------+-------+------------+-------+\n",
      "|                 Denoised File                  | STOI ↑ | PESQ ↑ | LSD ↓ | SNR (dB) ↑ | MSE ↓ |\n",
      "+------------------------------------------------+--------+--------+-------+------------+-------+\n",
      "| xVLenght/Output/static_bucketing_denoised.wav  | 0.831  | 1.402  | 3.609 |   0.570    | 0.004 |\n",
      "| xVLenght/Output/dynamic_bucketing_deniosed.wav | 0.843  | 1.614  | 2.623 |   1.714    | 0.003 |\n",
      "|      xVLenght/Output/PTO-OT_denioised.wav      | 0.801  | 1.579  | 3.331 |   1.558    | 0.003 |\n",
      "|  .Project/Output/ModelA_dynamic_p232_014.wav   | 0.761  | 1.166  | 2.446 |   0.397    | 0.004 |\n",
      "|   .Project/Output/ModelA_static_p232_014.wav   | 0.768  | 1.164  | 2.784 |   0.299    | 0.004 |\n",
      "|    .Project/Output/ModelA_pto_p232_014.wav     | 0.766  | 1.180  | 2.988 |   0.245    | 0.004 |\n",
      "|     separated/htdemucs/p232_014/vocals.wav     | 0.926  | 1.910  | 3.386 |   9.793    | 0.000 |\n",
      "+------------------------------------------------+--------+--------+-------+------------+-------+\n"
     ]
    }
   ],
   "source": [
    "clean_pth = \"ED-Noisy-Speech-Datashare/clean_testset_wav/p232_014.wav\"\n",
    "noisy_pth = \"ED-Noisy-Speech-Datashare/noisy_testset_wav/p232_014.wav\"\n",
    "denoised_pths = [\"xVLenght/Output/static_bucketing_denoised.wav\", \"xVLenght/Output/dynamic_bucketing_deniosed.wav\",\"xVLenght/Output/PTO-OT_denioised.wav\",\".Project/Output/ModelA_dynamic_p232_014.wav\",\".Project/Output/ModelA_static_p232_014.wav\",\".Project/Output/ModelA_pto_p232_014.wav\",\"separated/htdemucs/p232_014/vocals.wav\"\n",
    "]\n",
    "sample_rate = 48000\n",
    "\n",
    "evaluate_denoising(clean_pth, noisy_pth, denoised_pths, sample_rate)\n",
    "\n",
    "#https://www-sciencedirect-com.ejournals.um.edu.mt/science/article/pii/S0167639319304686\n"
   ]
  }
 ],
 "metadata": {
  "kernelspec": {
   "display_name": "nnc-venv",
   "language": "python",
   "name": "python3"
  },
  "language_info": {
   "codemirror_mode": {
    "name": "ipython",
    "version": 3
   },
   "file_extension": ".py",
   "mimetype": "text/x-python",
   "name": "python",
   "nbconvert_exporter": "python",
   "pygments_lexer": "ipython3",
   "version": "3.10.12"
  }
 },
 "nbformat": 4,
 "nbformat_minor": 2
}
